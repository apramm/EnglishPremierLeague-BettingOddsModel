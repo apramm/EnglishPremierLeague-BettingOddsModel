{
 "cells": [
  {
   "cell_type": "markdown",
   "id": "1574232a-e142-4f98-b198-e042266dd9f4",
   "metadata": {},
   "source": [
    "# Exploring the Effectiveness of Betting Odds and In-Match Statistics for Predicting Football Match Outcomes\n",
    "\n",
    "### Sahaj Khanna(40672545) and Apram Ahuja(14367403)"
   ]
  },
  {
   "cell_type": "markdown",
   "id": "81460ee6-9835-4d39-89fe-bf3a2c48749f",
   "metadata": {},
   "source": [
    "## Abstract \n",
    "\n",
    "The increasing popularity of football globally has spurred a growing interest in predicting the outcomes of football matches. Most prediction models rely on analyzing the teams performance in recent matches. However, another promising avenue involved the use of widely available betting odds, which often already incorporate information pertaining to the past performance and form of the teams. It is important to note, however, that these odds do not accurately reflect the probability of a particular outcome, as they are adjusted to mitigate the sportsbook's risk and ensure their profitability. \n",
    "\n",
    "To predict the result of football matches, we will pursue two distinct approaches. The first one will utilize the past-performance data for the teams. The second approach will utilize available betting odds from various sportbooks to predict the outcome. \n",
    "\n",
    "Lastly, we will analyze in-match statistics to identify the most significant factors for team success. This will involve examining metrics such as shots attempted, possession data, and fouls committed. \n"
   ]
  },
  {
   "cell_type": "markdown",
   "id": "32b34148-a79b-43ad-a1df-32e0c58008bd",
   "metadata": {},
   "source": [
    "## The Dataset \n",
    "\n"
   ]
  },
  {
   "cell_type": "code",
   "execution_count": null,
   "id": "9ec16f97-c3c4-4721-aba4-3a8fcf3abac6",
   "metadata": {},
   "outputs": [],
   "source": []
  }
 ],
 "metadata": {
  "kernelspec": {
   "display_name": "Python 3 (ipykernel)",
   "language": "python",
   "name": "python3"
  },
  "language_info": {
   "codemirror_mode": {
    "name": "ipython",
    "version": 3
   },
   "file_extension": ".py",
   "mimetype": "text/x-python",
   "name": "python",
   "nbconvert_exporter": "python",
   "pygments_lexer": "ipython3",
   "version": "3.8.5"
  }
 },
 "nbformat": 4,
 "nbformat_minor": 5
}
