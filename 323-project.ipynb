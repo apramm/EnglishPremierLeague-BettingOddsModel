{
 "cells": [
  {
   "cell_type": "markdown",
   "id": "6723c25d-f304-43b0-9eb5-65620ec167ca",
   "metadata": {},
   "source": [
    "<h1>Football Win Predictor</h1>"
   ]
  },
  {
   "cell_type": "code",
   "execution_count": null,
   "id": "c833e59c-2a79-464c-aa41-b6cd39d5c012",
   "metadata": {},
   "outputs": [],
   "source": []
  }
 ],
 "metadata": {
  "kernelspec": {
   "display_name": "Python 3 (ipykernel)",
   "language": "python",
   "name": "python3"
  },
  "language_info": {
   "codemirror_mode": {
    "name": "ipython",
    "version": 3
   },
   "file_extension": ".py",
   "mimetype": "text/x-python",
   "name": "python",
   "nbconvert_exporter": "python",
   "pygments_lexer": "ipython3",
   "version": "3.8.5"
  }
 },
 "nbformat": 4,
 "nbformat_minor": 5
}
