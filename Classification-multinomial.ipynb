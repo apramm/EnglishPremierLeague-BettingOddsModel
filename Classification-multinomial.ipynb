{
 "cells": [
  {
   "cell_type": "markdown",
   "id": "d94f8ab2-40c2-4f2f-a988-93912d257c25",
   "metadata": {},
   "source": [
    "## Multinomial Classification Problem "
   ]
  },
  {
   "cell_type": "code",
   "execution_count": 4,
   "id": "8092cc8d-9174-4e7a-9ccc-e58a8747c5b2",
   "metadata": {},
   "outputs": [],
   "source": [
    "# import packages and set themes\n",
    "import pandas as pd\n",
    "import numpy as np\n",
    "import matplotlib.pyplot as plt\n",
    "import warnings \n",
    "import seaborn as sns\n",
    "warnings.filterwarnings('ignore')\n",
    "from sklearn.metrics import (confusion_matrix, classification_report)\n",
    "from sklearn import (linear_model, metrics, neural_network, pipeline, model_selection, tree)\n",
    "from sklearn.ensemble import RandomForestRegressor\n",
    "%matplotlib inline"
   ]
  },
  {
   "cell_type": "code",
   "execution_count": 14,
   "id": "8c3818c3-afaf-4b81-8238-56fad24339a3",
   "metadata": {},
   "outputs": [],
   "source": [
    "betting_odds = pd.read_csv(\"betting_odds.csv\")\n",
    "betting_X = betting_odds[[\"AvgH\", \"AvgD\", \"AvgA\"]]\n",
    "betting_Y = betting_odds[\"FTR\"]\n",
    "betting_X_train, betting_X_test, betting_y_train, betting_y_test = model_selection.train_test_split(betting_X, betting_Y, test_size=0.25, random_state = 123)"
   ]
  },
  {
   "cell_type": "code",
   "execution_count": 154,
   "id": "c2f2eada-e87c-4ec8-aca4-fe04accd7f76",
   "metadata": {},
   "outputs": [
    {
     "data": {
      "text/plain": [
       "array([[ 0.16166023,  0.01272761, -0.14900167],\n",
       "       [ 0.08674034, -0.18741224,  0.07460551],\n",
       "       [-0.24840057,  0.17468463,  0.07439617]])"
      ]
     },
     "execution_count": 154,
     "metadata": {},
     "output_type": "execute_result"
    }
   ],
   "source": [
    "classification_model = linear_model.LogisticRegression(multi_class = \"multinomial\", max_iter = 10000, solver = \"lbfgs\",\n",
    "                                                       random_state = 123, fit_intercept = False)\n",
    "\n",
    "classification_model.fit(betting_X, betting_Y)\n",
    "class_train_pred = pd.DataFrame(data = classification_model.predict(betting_X_train))\n",
    "class_test_pred = pd.DataFrame(classification_model.predict(betting_X_test))\n",
    "\n",
    "classification_matrix = confusion_matrix(betting_y_train, class_train_pred)\n",
    "report = pd.DataFrame(data = classification_report(betting_y_test, class_test_pred, output_dict = True))\n",
    "\n",
    "classification_model.coef_"
   ]
  },
  {
   "cell_type": "code",
   "execution_count": 145,
   "id": "e48bea42-129c-459c-a679-de60361544b2",
   "metadata": {},
   "outputs": [],
   "source": [
    "def classification_results_heatmap(model_name, testing_X_data, testing_Y_data): \n",
    "    predictions = model_name.predict(testing_X_data) \n",
    "    cf_matrix = confusion_matrix(testing_Y_data, predictions, labels = model_name.classes_)\n",
    "    \n",
    "    fig, ax = plt.subplots(1, 1, figsize = (15, 6))\n",
    "    sns.heatmap(cf_matrix/np.sum(cf_matrix), annot=True, fmt='.2%', cmap='inferno_r', ax = ax, xticklabels = model_name.classes_,\n",
    "               yticklabels = model_name.classes_) \n",
    "\n",
    "    print(fig)"
   ]
  },
  {
   "cell_type": "code",
   "execution_count": 146,
   "id": "a266df7d-b19d-4dd3-b869-f2c3e98e3fd9",
   "metadata": {},
   "outputs": [
    {
     "name": "stdout",
     "output_type": "stream",
     "text": [
      "Figure(1500x600)\n"
     ]
    },
    {
     "data": {
      "image/png": "[encoded data removed]",
      "text/plain": [
       "<Figure size 1500x600 with 2 Axes>"
      ]
     },
     "metadata": {},
     "output_type": "display_data"
    }
   ],
   "source": [
    "classification_results_heatmap(classification_model, betting_X_test, betting_y_test)"
   ]
  },
  {
   "cell_type": "code",
   "execution_count": 152,
   "id": "14ba0702-377c-4e87-bec3-4d65362b8450",
   "metadata": {},
   "outputs": [],
   "source": [
    "def classification_results_report(model_name, testing_X_data, testing_Y_data):\n",
    "    predictions = model_name.predict(testing_X_data)\n",
    "    report = classification_report(testing_Y_data, predictions, output_dict = True) \n",
    "    report_df = pd.DataFrame(data = report) \n",
    "    return report_df.iloc[0:3, 0:4]"
   ]
  },
  {
   "cell_type": "code",
   "execution_count": 153,
   "id": "cac9a398-c1e7-4012-983c-c1e88bf451d2",
   "metadata": {},
   "outputs": [
    {
     "data": {
      "text/html": [
       "<div>\n",
       "<style scoped>\n",
       "    .dataframe tbody tr th:only-of-type {\n",
       "        vertical-align: middle;\n",
       "    }\n",
       "\n",
       "    .dataframe tbody tr th {\n",
       "        vertical-align: top;\n",
       "    }\n",
       "\n",
       "    .dataframe thead th {\n",
       "        text-align: right;\n",
       "    }\n",
       "</style>\n",
       "<table border=\"1\" class=\"dataframe\">\n",
       "  <thead>\n",
       "    <tr style=\"text-align: right;\">\n",
       "      <th></th>\n",
       "      <th>A</th>\n",
       "      <th>D</th>\n",
       "      <th>H</th>\n",
       "      <th>accuracy</th>\n",
       "    </tr>\n",
       "  </thead>\n",
       "  <tbody>\n",
       "    <tr>\n",
       "      <th>precision</th>\n",
       "      <td>0.493694</td>\n",
       "      <td>0.0</td>\n",
       "      <td>0.480000</td>\n",
       "      <td>0.48399</td>\n",
       "    </tr>\n",
       "    <tr>\n",
       "      <th>recall</th>\n",
       "      <td>0.455907</td>\n",
       "      <td>0.0</td>\n",
       "      <td>0.819216</td>\n",
       "      <td>0.48399</td>\n",
       "    </tr>\n",
       "    <tr>\n",
       "      <th>f1-score</th>\n",
       "      <td>0.474048</td>\n",
       "      <td>0.0</td>\n",
       "      <td>0.605325</td>\n",
       "      <td>0.48399</td>\n",
       "    </tr>\n",
       "  </tbody>\n",
       "</table>\n",
       "</div>"
      ],
      "text/plain": [
       "                  A    D         H  accuracy\n",
       "precision  0.493694  0.0  0.480000   0.48399\n",
       "recall     0.455907  0.0  0.819216   0.48399\n",
       "f1-score   0.474048  0.0  0.605325   0.48399"
      ]
     },
     "execution_count": 153,
     "metadata": {},
     "output_type": "execute_result"
    }
   ],
   "source": [
    "classification_results_report(classification_model, betting_X_test, betting_y_test)"
   ]
  },
  {
   "cell_type": "code",
   "execution_count": null,
   "id": "d4966ded-e816-4b61-8db8-cfaf099aec83",
   "metadata": {},
   "outputs": [],
   "source": []
  }
 ],
 "metadata": {
  "kernelspec": {
   "display_name": "Python 3 (ipykernel)",
   "language": "python",
   "name": "python3"
  },
  "language_info": {
   "codemirror_mode": {
    "name": "ipython",
    "version": 3
   },
   "file_extension": ".py",
   "mimetype": "text/x-python",
   "name": "python",
   "nbconvert_exporter": "python",
   "pygments_lexer": "ipython3",
   "version": "3.9.13"
  }
 },
 "nbformat": 4,
 "nbformat_minor": 5
}
