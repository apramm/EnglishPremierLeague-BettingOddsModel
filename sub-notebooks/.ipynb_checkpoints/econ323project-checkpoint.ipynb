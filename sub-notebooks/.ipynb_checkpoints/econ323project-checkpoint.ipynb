{
 "cells": [
  {
   "cell_type": "markdown",
   "id": "e8df1a76-2ffa-4c2e-8145-2e4fb4c1bb5f",
   "metadata": {},
   "source": [
    "# Exploring the Effectiveness of Betting Odds and Half Time Results for Predicting Football Match Outcomes\n",
    "\n",
    "#### Sahaj Khanna(40672545) and Apram Ahuja(14367403)"
   ]
  },
  {
   "cell_type": "code",
   "execution_count": 11,
   "id": "1e60448f-e4ef-4144-9a9f-7debfe751305",
   "metadata": {},
   "outputs": [],
   "source": [
    "# import packages and set themes\n",
    "import pandas as pd\n",
    "import numpy as np\n",
    "import matplotlib.pyplot as plt\n",
    "import warnings \n",
    "import seaborn as sns\n",
    "warnings.filterwarnings('ignore')\n",
    "from sklearn.metrics import (confusion_matrix, classification_report)\n",
    "from sklearn import (linear_model, metrics, neural_network, pipeline, model_selection, tree)\n",
    "from sklearn.ensemble import RandomForestRegressor\n",
    "%matplotlib inline"
   ]
  },
  {
   "cell_type": "markdown",
   "id": "c2d48505-6015-4c40-8652-60bd3dbb9f66",
   "metadata": {},
   "source": [
    "# Abstract "
   ]
  },
  {
   "cell_type": "markdown",
   "id": "e20ee90c-c991-4648-a632-286532f7acd2",
   "metadata": {},
   "source": [
    "The increasing popularity of football globally has spurred a growing interest in predicting the outcomes of football matches. Various highly complex models have been built by sports analytics companies and football clubs themselves that take into account all the available data such as team performance in past matches, injuries and suspensions, head to head record, and team tactics to predict the result as accurately as possible. However, another promising avenue involved the use of widely available betting odds, which often already incorporate information pertaining to the past performance and form of the teams. It is important to note, however, that these odds do not accurately reflect the probability of a particular outcome, as they are adjusted to mitigate the sportsbook's risk and ensure their profitability. So, even though they are likely to incorporate all the available information about the teams, they ultimately ensure that the house never loses.  \n",
    "\n",
    "For the first part of this project, we analyse how accurately do betting odds in itself predict the outcomes of football matches. Afterwards, we frame this prediction problem both as a classification and regression problem. We train regression and classification models on the available betting data and see whether it would be possible to increase the accuracy of betting odds using these models. \n",
    "\n",
    "Lastly, we decide to explore another question that can be answered using the available dataset. In football, matches are divided into two equal halves of 45 minutes each. At first glance, the results of the both halves should be independent. In other words, if the home team has scored 3 goals before half time, it is entirely plausible for the away team to also score 3 in the second half.\n",
    "\n",
    "However, Since the difference in quality and performance of the two teams is already evident by the first half, therefore the team with the score advantage by half time, should be far more likely to win when the full time whistle blows. "
   ]
  },
  {
   "cell_type": "markdown",
   "id": "68aaf25f-0118-45a6-b42f-024969e8d726",
   "metadata": {},
   "source": [
    "# The Dataset \n",
    "\n",
    "The training and testing data used for this part of the project was obtained from http://www.football-data.co.uk/.  The website provided downloadable csv files containing data about matches from the top 5 leagues in England going back to 1993. However, the further we go back, the data used to have various missing features. Consequently, we decide to use data for the top 5 leagues from 2019 to 2022, which gives us data from 20 complete football seasons and some consistency in the avaliable features. "
   ]
  },
  {
   "cell_type": "markdown",
   "id": "4602b983-4a07-4555-9551-c276d0bc71ac",
   "metadata": {},
   "source": [
    "# Data Cleaning "
   ]
  },
  {
   "cell_type": "code",
   "execution_count": null,
   "id": "11ca30d1-f66a-4b5c-acd2-5854e9048189",
   "metadata": {},
   "outputs": [],
   "source": [
    "# Reading all the csv files\n",
    "dfp_2022  =  pd.read_csv(\"Desktop/jupyter-lab /econ 323 /econ323-project/data/E2022.csv\", skip_blank_lines=True)\n",
    "dfp_2021  =  pd.read_csv('E2021.csv', skip_blank_lines=True)\n",
    "dfp_2020  =  pd.read_csv('E2020.csv', skip_blank_lines=True)\n",
    "dfp_2019  =  pd.read_csv('E2019.csv', skip_blank_lines=True)\n",
    "dfc_2022  =  pd.read_csv('E1_c2022.csv', skip_blank_lines=True)\n",
    "dfc_2021 =  pd.read_csv('E1_c2021.csv', skip_blank_lines=True)\n",
    "dfc_2020 =  pd.read_csv('E1_c2020.csv', skip_blank_lines=True)\n",
    "dfc_2019 =  pd.read_csv('E1_c2019.csv', skip_blank_lines=True)\n",
    "dfl1_2022 =  pd.read_csv('E2_l12022.csv', skip_blank_lines=True)\n",
    "dfl1_2021 =  pd.read_csv('E2_l12021.csv', skip_blank_lines=True)\n",
    "dfl1_2020 =  pd.read_csv('E2_l12020.csv', skip_blank_lines=True)\n",
    "dfl1_2019 =  pd.read_csv('E2_l12019.csv', skip_blank_lines=True)\n",
    "dfl2_2022 =  pd.read_csv('E3_l22022.csv', skip_blank_lines=True)\n",
    "dfl2_2021 =  pd.read_csv('E3_l22021.csv', skip_blank_lines=True)\n",
    "dfl2_2020 =  pd.read_csv('E3_l22020.csv', skip_blank_lines=True)\n",
    "dfl2_2019 =  pd.read_csv('E3_l22019.csv', skip_blank_lines=True)"
   ]
  },
  {
   "cell_type": "code",
   "execution_count": 19,
   "id": "3020b439-e82b-4291-99fb-9ac9d20c5a93",
   "metadata": {},
   "outputs": [
    {
     "data": {
      "text/plain": [
       "'/Users/sahaj/Desktop/jupyter-lab /econ 323 /econ323-project'"
      ]
     },
     "execution_count": 19,
     "metadata": {},
     "output_type": "execute_result"
    }
   ],
   "source": [
    "# path = '\\data'\n",
    "# os.chdir(path)\n",
    "os.getcwd()"
   ]
  },
  {
   "cell_type": "code",
   "execution_count": null,
   "id": "34b9df15-c1b8-4fe3-afff-ecff06c0b843",
   "metadata": {},
   "outputs": [],
   "source": []
  }
 ],
 "metadata": {
  "kernelspec": {
   "display_name": "Python 3 (ipykernel)",
   "language": "python",
   "name": "python3"
  },
  "language_info": {
   "codemirror_mode": {
    "name": "ipython",
    "version": 3
   },
   "file_extension": ".py",
   "mimetype": "text/x-python",
   "name": "python",
   "nbconvert_exporter": "python",
   "pygments_lexer": "ipython3",
   "version": "3.9.13"
  }
 },
 "nbformat": 4,
 "nbformat_minor": 5
}
