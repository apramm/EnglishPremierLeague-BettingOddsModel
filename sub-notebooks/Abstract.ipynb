{
 "cells": [
  {
   "cell_type": "markdown",
   "id": "1574232a-e142-4f98-b198-e042266dd9f4",
   "metadata": {},
   "source": [
    "# Exploring the Effectiveness of Betting Odds and In-Match Statistics for Predicting Football Match Outcomes\n",
    "\n",
    "### Sahaj Khanna(40672545) and Apram Ahuja(14367403)"
   ]
  },
  {
   "cell_type": "markdown",
   "id": "81460ee6-9835-4d39-89fe-bf3a2c48749f",
   "metadata": {},
   "source": [
    "## Abstract \n",
    "\n",
    "The increasing popularity of football globally has spurred a growing interest in predicting the outcomes of football matches. Most prediction models rely on analyzing the teams performance in recent matches. However, another promising avenue involved the use of widely available betting odds, which often already incorporate information pertaining to the past performance and form of the teams. It is important to note, however, that these odds do not accurately reflect the probability of a particular outcome, as they are adjusted to mitigate the sportsbook's risk and ensure their profitability. \n",
    "\n",
    "To predict the result of football matches, we will pursue two distinct approaches. The first one will utilize the past-performance data for the teams. The second approach will utilize available betting odds from various sportbooks to predict the outcome. \n",
    "\n",
    "Lastly, we will analyze in-match statistics to identify the most significant factors for team success. This will involve examining metrics such as shots attempted, possession data, and fouls committed. \n"
   ]
  },
  {
   "cell_type": "markdown",
   "id": "32b34148-a79b-43ad-a1df-32e0c58008bd",
   "metadata": {},
   "source": [
    "## The Dataset \n",
    "\n"
   ]
  },
  {
   "cell_type": "code",
   "execution_count": 1,
   "id": "9ec16f97-c3c4-4721-aba4-3a8fcf3abac6",
   "metadata": {},
   "outputs": [
    {
     "ename": "NameError",
     "evalue": "name 'pd' is not defined",
     "output_type": "error",
     "traceback": [
      "\u001b[0;31m---------------------------------------------------------------------------\u001b[0m",
      "\u001b[0;31mNameError\u001b[0m                                 Traceback (most recent call last)",
      "\u001b[0;32m/var/folders/fw/4k6cqv395n9271k_qmms_nv00000gn/T/ipykernel_25121/2772140606.py\u001b[0m in \u001b[0;36m<module>\u001b[0;34m\u001b[0m\n\u001b[0;32m----> 1\u001b[0;31m \u001b[0mdfp_2022\u001b[0m  \u001b[0;34m=\u001b[0m  \u001b[0mpd\u001b[0m\u001b[0;34m.\u001b[0m\u001b[0mread_csv\u001b[0m\u001b[0;34m(\u001b[0m\u001b[0;34m'data/E2022.csv'\u001b[0m\u001b[0;34m,\u001b[0m \u001b[0mskip_blank_lines\u001b[0m\u001b[0;34m=\u001b[0m\u001b[0;32mTrue\u001b[0m\u001b[0;34m)\u001b[0m\u001b[0;34m\u001b[0m\u001b[0;34m\u001b[0m\u001b[0m\n\u001b[0m\u001b[1;32m      2\u001b[0m \u001b[0mdfp_2021\u001b[0m  \u001b[0;34m=\u001b[0m  \u001b[0mpd\u001b[0m\u001b[0;34m.\u001b[0m\u001b[0mread_csv\u001b[0m\u001b[0;34m(\u001b[0m\u001b[0;34m'E2021.csv'\u001b[0m\u001b[0;34m,\u001b[0m \u001b[0mskip_blank_lines\u001b[0m\u001b[0;34m=\u001b[0m\u001b[0;32mTrue\u001b[0m\u001b[0;34m)\u001b[0m\u001b[0;34m\u001b[0m\u001b[0;34m\u001b[0m\u001b[0m\n\u001b[1;32m      3\u001b[0m \u001b[0mdfp_2020\u001b[0m  \u001b[0;34m=\u001b[0m  \u001b[0mpd\u001b[0m\u001b[0;34m.\u001b[0m\u001b[0mread_csv\u001b[0m\u001b[0;34m(\u001b[0m\u001b[0;34m'E2020.csv'\u001b[0m\u001b[0;34m,\u001b[0m \u001b[0mskip_blank_lines\u001b[0m\u001b[0;34m=\u001b[0m\u001b[0;32mTrue\u001b[0m\u001b[0;34m)\u001b[0m\u001b[0;34m\u001b[0m\u001b[0;34m\u001b[0m\u001b[0m\n\u001b[1;32m      4\u001b[0m \u001b[0mdfp_2019\u001b[0m  \u001b[0;34m=\u001b[0m  \u001b[0mpd\u001b[0m\u001b[0;34m.\u001b[0m\u001b[0mread_csv\u001b[0m\u001b[0;34m(\u001b[0m\u001b[0;34m'E2019.csv'\u001b[0m\u001b[0;34m,\u001b[0m \u001b[0mskip_blank_lines\u001b[0m\u001b[0;34m=\u001b[0m\u001b[0;32mTrue\u001b[0m\u001b[0;34m)\u001b[0m\u001b[0;34m\u001b[0m\u001b[0;34m\u001b[0m\u001b[0m\n\u001b[1;32m      5\u001b[0m \u001b[0mdfc_2022\u001b[0m  \u001b[0;34m=\u001b[0m  \u001b[0mpd\u001b[0m\u001b[0;34m.\u001b[0m\u001b[0mread_csv\u001b[0m\u001b[0;34m(\u001b[0m\u001b[0;34m'E1_c2022.csv'\u001b[0m\u001b[0;34m,\u001b[0m \u001b[0mskip_blank_lines\u001b[0m\u001b[0;34m=\u001b[0m\u001b[0;32mTrue\u001b[0m\u001b[0;34m)\u001b[0m\u001b[0;34m\u001b[0m\u001b[0;34m\u001b[0m\u001b[0m\n",
      "\u001b[0;31mNameError\u001b[0m: name 'pd' is not defined"
     ]
    }
   ],
   "source": [
    "dfp_2022  =  pd.read_csv('data/E2022.csv', skip_blank_lines=True)\n",
    "dfp_2021  =  pd.read_csv('E2021.csv', skip_blank_lines=True)\n",
    "dfp_2020  =  pd.read_csv('E2020.csv', skip_blank_lines=True)\n",
    "dfp_2019  =  pd.read_csv('E2019.csv', skip_blank_lines=True)\n",
    "dfc_2022  =  pd.read_csv('E1_c2022.csv', skip_blank_lines=True)\n",
    "dfc_2021 =  pd.read_csv('E1_c2021.csv', skip_blank_lines=True)\n",
    "dfc_2020 =  pd.read_csv('E1_c2020.csv', skip_blank_lines=True)\n",
    "dfc_2019 =  pd.read_csv('E1_c2019.csv', skip_blank_lines=True)\n",
    "dfl1_2022 =  pd.read_csv('E2_l12022.csv', skip_blank_lines=True)\n",
    "dfl1_2021 =  pd.read_csv('E2_l12021.csv', skip_blank_lines=True)\n",
    "dfl1_2020 =  pd.read_csv('E2_l12020.csv', skip_blank_lines=True)\n",
    "dfl1_2019 =  pd.read_csv('E2_l12019.csv', skip_blank_lines=True)\n",
    "dfl2_2022 =  pd.read_csv('E3_l22022.csv', skip_blank_lines=True)\n",
    "dfl2_2021 =  pd.read_csv('E3_l22021.csv', skip_blank_lines=True)\n",
    "dfl2_2020 =  pd.read_csv('E3_l22020.csv', skip_blank_lines=True)\n",
    "dfl2_2019 =  pd.read_csv('E3_l22019.csv', skip_blank_lines=True)"
   ]
  },
  {
   "cell_type": "code",
   "execution_count": null,
   "id": "bced2b36-f57a-42b2-bb68-90d1f5280df9",
   "metadata": {},
   "outputs": [],
   "source": []
  }
 ],
 "metadata": {
  "kernelspec": {
   "display_name": "Python 3 (ipykernel)",
   "language": "python",
   "name": "python3"
  },
  "language_info": {
   "codemirror_mode": {
    "name": "ipython",
    "version": 3
   },
   "file_extension": ".py",
   "mimetype": "text/x-python",
   "name": "python",
   "nbconvert_exporter": "python",
   "pygments_lexer": "ipython3",
   "version": "3.8.5"
  }
 },
 "nbformat": 4,
 "nbformat_minor": 5
}
