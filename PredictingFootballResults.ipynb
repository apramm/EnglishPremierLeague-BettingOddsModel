{
 "cells": [
  {
   "cell_type": "markdown",
   "id": "56ca3e11-de1f-455f-86c9-910a40face51",
   "metadata": {},
   "source": [
    "# Exploring the Effectiveness of Betting Odds and In-Match Statistics for Predicting Football Match Outcomes\n",
    "\n",
    "### Sahaj Khanna(40672545) and Apram Ahuja "
   ]
  },
  {
   "cell_type": "markdown",
   "id": "01f507fb-14f8-4cc9-9bfe-c9d5bf1236c7",
   "metadata": {},
   "source": [
    "The increasing popularity of football globally has spurred a growing interest in predicting the outcomes of football matches. Most prediction models rely on analyzing the teams performance in recent matches. However, another promising avenue involved the use of widely available betting odds, which often already incorporate information pertaining to the past performance and form of the teams. It is important to note, however, that these odds do not accurately reflect the probability of a particular outcome, as they are adjusted to mitigate the sportsbook's risk and ensure their profitability. \n",
    "\n",
    "For the first part our part of our project, we will utilise betting data to predict the results of football matches and test how accurate the predictions are. Lastly, we analyze in-match statistics to identify the most significant factors for team success. This will involve examining in-game metrics such as shots attempted, possession data, and fouls committed. \n"
   ]
  },
  {
   "cell_type": "code",
   "execution_count": 133,
   "id": "85d8c7c6-bd5b-4630-af8e-3fc41c0d0f51",
   "metadata": {},
   "outputs": [],
   "source": [
    "# Importing all the required packages\n",
    "import pandas as pd\n",
    "import numpy as np\n",
    "import matplotlib.pyplot as plt\n",
    "import seaborn as sns \n",
    "import warnings \n",
    "warnings.filterwarnings('ignore')\n",
    "%matplotlib inline"
   ]
  },
  {
   "cell_type": "markdown",
   "id": "0cd00b69-671e-4729-8097-fce242e79928",
   "metadata": {},
   "source": [
    "# The Dataset \n",
    "The training and testing data used for this part of the project was obtained from http://www.football-data.co.uk/. "
   ]
  },
  {
   "cell_type": "code",
   "execution_count": 125,
   "id": "51a9ce58-941a-4df5-ac02-f19c2664dd77",
   "metadata": {},
   "outputs": [],
   "source": [
    "# Reading in all the data \n",
    "df_2022  =  pd.read_csv('E2022.csv', skip_blank_lines=True)\n",
    "df_2021  =  pd.read_csv('E2021.csv', skip_blank_lines=True)\n",
    "df_2020  =  pd.read_csv('E2020.csv', skip_blank_lines=True)\n",
    "df_2019  =  pd.read_csv('E2019.csv', skip_blank_lines=True)\n",
    "df_2018  =  pd.read_csv('E2018.csv', skip_blank_lines=True)\n",
    "df_2017  =  pd.read_csv('E2017.csv', skip_blank_lines=True)\n",
    "df_2016  =  pd.read_csv('E2016.csv', skip_blank_lines=True)\n",
    "df_2015  =  pd.read_csv('E2015.csv', skip_blank_lines=True)\n",
    "df_2014  =  pd.read_csv('E2014.csv', skip_blank_lines=True)\n",
    "df_2013  =  pd.read_csv('E2013.csv', skip_blank_lines=True)\n",
    "df_2012  =  pd.read_csv('E2012.csv', skip_blank_lines=True)"
   ]
  },
  {
   "cell_type": "code",
   "execution_count": 126,
   "id": "322e3d32-4aaa-48d1-9d89-b564cd5ff020",
   "metadata": {},
   "outputs": [],
   "source": [
    "#Cleaning the data to concatenate and removing any missing observations.\n",
    "df_list = [df_2022 , df_2021, df_2020, df_2019, df_2018,df_2017,df_2016,df_2015,df_2014, df_2013,df_2012]\n",
    "df = pd.concat(df_list,ignore_index = True)\n",
    "\n",
    "def remove_col(df, col_list):\n",
    "    \n",
    "    df = df.drop(columns = col_list, axis=1) #to remove div and time\n",
    "    return df\n",
    "\n",
    "column_remove_list = df.columns[df.isna().any()].tolist() #list of all unwanted columns which are either unused or conflicting\n",
    "df_clean = remove_col(df,column_remove_list) \n",
    "\n",
    "#Creating a goal difference column \n",
    "df_clean[\"GD\"] = df_clean[\"FTHG\"] - df_clean[\"FTAG\"]"
   ]
  },
  {
   "cell_type": "code",
   "execution_count": 127,
   "id": "973829f8-75eb-4761-9938-95062d6656bd",
   "metadata": {},
   "outputs": [],
   "source": [
    "#Viewing the dataset \n",
    "df_clean;\n",
    "\n",
    "test_data = df_clean[[\"B365H\", \"B365D\", \"B365A\"]]"
   ]
  },
  {
   "cell_type": "code",
   "execution_count": 130,
   "id": "583dda55-fd93-4827-9e54-af53b3a4a7f8",
   "metadata": {},
   "outputs": [],
   "source": [
    "#Writing a function that classifies the betting odds as Home/Win/Away predictions\n",
    "def home_draw_win(HomeOdds, DrawOdds, AwayOdds): \n",
    "    if HomeOdds < DrawOdds and HomeOdds < AwayOdds: \n",
    "        out = \"H\"\n",
    "    elif DrawOdds < HomeOdds and DrawOdds < AwayOdds: \n",
    "        out = \"D\" \n",
    "    elif AwayOdds < HomeOdds and AwayOdds < DrawOdds: \n",
    "        out = \"A\"\n",
    "    return out \n",
    "\n",
    "        \n",
    "# test_data[\"BetPred\"] = test_data.apply(home_draw_win, axis = 1)\n",
    "new = test_data.idxmin(axis = 1)\n",
    "\n",
    "pd_new = pd.Series(data = new) \n",
    "test_data[\"BetPred\"] = pd_new\n",
    "\n"
   ]
  },
  {
   "cell_type": "code",
   "execution_count": 134,
   "id": "12a719e2-c4f6-41dd-977c-3509d7afe281",
   "metadata": {},
   "outputs": [
    {
     "data": {
      "text/html": [
       "<div>\n",
       "<style scoped>\n",
       "    .dataframe tbody tr th:only-of-type {\n",
       "        vertical-align: middle;\n",
       "    }\n",
       "\n",
       "    .dataframe tbody tr th {\n",
       "        vertical-align: top;\n",
       "    }\n",
       "\n",
       "    .dataframe thead th {\n",
       "        text-align: right;\n",
       "    }\n",
       "</style>\n",
       "<table border=\"1\" class=\"dataframe\">\n",
       "  <thead>\n",
       "    <tr style=\"text-align: right;\">\n",
       "      <th></th>\n",
       "      <th>B365H</th>\n",
       "      <th>B365D</th>\n",
       "      <th>B365A</th>\n",
       "      <th>BetPred</th>\n",
       "    </tr>\n",
       "  </thead>\n",
       "  <tbody>\n",
       "    <tr>\n",
       "      <th>0</th>\n",
       "      <td>4.20</td>\n",
       "      <td>3.6</td>\n",
       "      <td>1.85</td>\n",
       "      <td>A</td>\n",
       "    </tr>\n",
       "    <tr>\n",
       "      <th>1</th>\n",
       "      <td>11.00</td>\n",
       "      <td>6.0</td>\n",
       "      <td>1.25</td>\n",
       "      <td>A</td>\n",
       "    </tr>\n",
       "    <tr>\n",
       "      <th>2</th>\n",
       "      <td>3.75</td>\n",
       "      <td>3.5</td>\n",
       "      <td>2.00</td>\n",
       "      <td>A</td>\n",
       "    </tr>\n",
       "    <tr>\n",
       "      <th>3</th>\n",
       "      <td>2.25</td>\n",
       "      <td>3.4</td>\n",
       "      <td>3.20</td>\n",
       "      <td>H</td>\n",
       "    </tr>\n",
       "    <tr>\n",
       "      <th>4</th>\n",
       "      <td>1.66</td>\n",
       "      <td>3.8</td>\n",
       "      <td>5.25</td>\n",
       "      <td>H</td>\n",
       "    </tr>\n",
       "    <tr>\n",
       "      <th>...</th>\n",
       "      <td>...</td>\n",
       "      <td>...</td>\n",
       "      <td>...</td>\n",
       "      <td>...</td>\n",
       "    </tr>\n",
       "    <tr>\n",
       "      <th>4081</th>\n",
       "      <td>1.80</td>\n",
       "      <td>3.8</td>\n",
       "      <td>4.75</td>\n",
       "      <td>H</td>\n",
       "    </tr>\n",
       "    <tr>\n",
       "      <th>4082</th>\n",
       "      <td>1.29</td>\n",
       "      <td>6.0</td>\n",
       "      <td>12.00</td>\n",
       "      <td>H</td>\n",
       "    </tr>\n",
       "    <tr>\n",
       "      <th>4083</th>\n",
       "      <td>4.50</td>\n",
       "      <td>3.9</td>\n",
       "      <td>1.83</td>\n",
       "      <td>A</td>\n",
       "    </tr>\n",
       "    <tr>\n",
       "      <th>4084</th>\n",
       "      <td>1.67</td>\n",
       "      <td>4.0</td>\n",
       "      <td>5.75</td>\n",
       "      <td>H</td>\n",
       "    </tr>\n",
       "    <tr>\n",
       "      <th>4085</th>\n",
       "      <td>2.15</td>\n",
       "      <td>3.6</td>\n",
       "      <td>3.60</td>\n",
       "      <td>H</td>\n",
       "    </tr>\n",
       "  </tbody>\n",
       "</table>\n",
       "<p>4086 rows × 4 columns</p>\n",
       "</div>"
      ],
      "text/plain": [
       "      B365H  B365D  B365A BetPred\n",
       "0      4.20    3.6   1.85       A\n",
       "1     11.00    6.0   1.25       A\n",
       "2      3.75    3.5   2.00       A\n",
       "3      2.25    3.4   3.20       H\n",
       "4      1.66    3.8   5.25       H\n",
       "...     ...    ...    ...     ...\n",
       "4081   1.80    3.8   4.75       H\n",
       "4082   1.29    6.0  12.00       H\n",
       "4083   4.50    3.9   1.83       A\n",
       "4084   1.67    4.0   5.75       H\n",
       "4085   2.15    3.6   3.60       H\n",
       "\n",
       "[4086 rows x 4 columns]"
      ]
     },
     "execution_count": 134,
     "metadata": {},
     "output_type": "execute_result"
    }
   ],
   "source": [
    "test_data[\"BetPred\"] = test_data[\"BetPred\"].apply(lambda x: x.replace(\"B365\", \" \"))\n",
    "test_data"
   ]
  },
  {
   "cell_type": "code",
   "execution_count": null,
   "id": "c61c80cb-c203-4fa0-8c53-bb4f4888686a",
   "metadata": {},
   "outputs": [],
   "source": []
  },
  {
   "cell_type": "code",
   "execution_count": null,
   "id": "7f4f3d08-ba6c-47a7-8ec4-b5d18f32d20a",
   "metadata": {},
   "outputs": [],
   "source": []
  },
  {
   "cell_type": "code",
   "execution_count": null,
   "id": "e94aa2d3-6a47-4c64-bb89-d95cbff6b797",
   "metadata": {},
   "outputs": [],
   "source": []
  }
 ],
 "metadata": {
  "kernelspec": {
   "display_name": "Python 3 (ipykernel)",
   "language": "python",
   "name": "python3"
  },
  "language_info": {
   "codemirror_mode": {
    "name": "ipython",
    "version": 3
   },
   "file_extension": ".py",
   "mimetype": "text/x-python",
   "name": "python",
   "nbconvert_exporter": "python",
   "pygments_lexer": "ipython3",
   "version": "3.9.13"
  }
 },
 "nbformat": 4,
 "nbformat_minor": 5
}
